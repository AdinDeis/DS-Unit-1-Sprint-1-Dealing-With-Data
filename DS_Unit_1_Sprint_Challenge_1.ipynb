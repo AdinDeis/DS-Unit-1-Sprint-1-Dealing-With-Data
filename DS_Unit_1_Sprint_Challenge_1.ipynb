{
  "nbformat": 4,
  "nbformat_minor": 0,
  "metadata": {
    "colab": {
      "name": "DS_Unit_1_Sprint_Challenge_1.ipynb",
      "version": "0.3.2",
      "provenance": [],
      "collapsed_sections": [],
      "include_colab_link": true
    },
    "kernelspec": {
      "name": "python3",
      "display_name": "Python 3"
    }
  },
  "cells": [
    {
      "cell_type": "markdown",
      "metadata": {
        "id": "view-in-github",
        "colab_type": "text"
      },
      "source": [
        "<a href=\"https://colab.research.google.com/github/AdinDeis/DS-Unit-1-Sprint-1-Dealing-With-Data/blob/master/DS_Unit_1_Sprint_Challenge_1.ipynb\" target=\"_parent\"><img src=\"https://colab.research.google.com/assets/colab-badge.svg\" alt=\"Open In Colab\"/></a>"
      ]
    },
    {
      "cell_type": "markdown",
      "metadata": {
        "id": "NooAiTdnafkz",
        "colab_type": "text"
      },
      "source": [
        "# Data Science Unit 1 Sprint Challenge 1\n",
        "\n",
        "## Loading, cleaning, visualizing, and analyzing data\n",
        "\n",
        "In this sprint challenge you will look at a dataset of the survival of patients who underwent surgery for breast cancer.\n",
        "\n",
        "http://archive.ics.uci.edu/ml/datasets/Haberman%27s+Survival\n",
        "\n",
        "Data Set Information:\n",
        "The dataset contains cases from a study that was conducted between 1958 and 1970 at the University of Chicago's Billings Hospital on the survival of patients who had undergone surgery for breast cancer.\n",
        "\n",
        "Attribute Information:\n",
        "1. Age of patient at time of operation (numerical)\n",
        "2. Patient's year of operation (year - 1900, numerical)\n",
        "3. Number of positive axillary nodes detected (numerical)\n",
        "4. Survival status (class attribute)\n",
        "-- 1 = the patient survived 5 years or longer\n",
        "-- 2 = the patient died within 5 year\n",
        "\n",
        "Sprint challenges are evaluated based on satisfactory completion of each part. It is suggested you work through it in order, getting each aspect reasonably working, before trying to deeply explore, iterate, or refine any given step. Once you get to the end, if you want to go back and improve things, go for it!"
      ]
    },
    {
      "cell_type": "markdown",
      "metadata": {
        "id": "5wch6ksCbJtZ",
        "colab_type": "text"
      },
      "source": [
        "## Part 1 - Load and validate the data\n",
        "\n",
        "- Load the data as a `pandas` data frame.\n",
        "- Validate that it has the appropriate number of observations (you can check the raw file, and also read the dataset description from UCI).\n",
        "- Validate that you have no missing values.\n",
        "- Add informative names to the features.\n",
        "- The survival variable is encoded as 1 for surviving >5 years and 2 for not - change this to be 0 for not surviving and 1 for surviving >5 years (0/1 is a more traditional encoding of binary variables)\n",
        "\n",
        "At the end, print the first five rows of the dataset to demonstrate the above."
      ]
    },
    {
      "cell_type": "code",
      "metadata": {
        "id": "PL6zWTnO8I8Y",
        "colab_type": "code",
        "colab": {}
      },
      "source": [
        "#Global imports\n",
        "import pandas as pd\n",
        "import numpy as np\n",
        "import matplotlib.pyplot as plt"
      ],
      "execution_count": 0,
      "outputs": []
    },
    {
      "cell_type": "markdown",
      "metadata": {
        "id": "5rM9WYjE7x3P",
        "colab_type": "text"
      },
      "source": [
        "###Load the data as a pandas data frame."
      ]
    },
    {
      "cell_type": "code",
      "metadata": {
        "id": "-PV4L-UZ8G4a",
        "colab_type": "code",
        "colab": {}
      },
      "source": [
        "df = pd.read_csv('http://archive.ics.uci.edu/ml/machine-learning-databases/haberman/haberman.data')"
      ],
      "execution_count": 0,
      "outputs": []
    },
    {
      "cell_type": "markdown",
      "metadata": {
        "id": "t5G1WSii7yCt",
        "colab_type": "text"
      },
      "source": [
        "###Validate that it has the appropriate number of observations (you can check the raw file, and also read the dataset description from UCI).\n",
        "Expected number of observations 306 (UCI [link text](http://archive.ics.uci.edu/ml/datasets/Haberman%27s+Survival))"
      ]
    },
    {
      "cell_type": "code",
      "metadata": {
        "id": "LiDcmvUK9i0A",
        "colab_type": "code",
        "colab": {
          "base_uri": "https://localhost:8080/",
          "height": 34
        },
        "outputId": "44d1dfe0-42f1-426f-95d3-f1aecbeed7e0"
      },
      "source": [
        "df.shape"
      ],
      "execution_count": 5,
      "outputs": [
        {
          "output_type": "execute_result",
          "data": {
            "text/plain": [
              "(305, 4)"
            ]
          },
          "metadata": {
            "tags": []
          },
          "execution_count": 5
        }
      ]
    },
    {
      "cell_type": "markdown",
      "metadata": {
        "id": "kmw7QfuH919q",
        "colab_type": "text"
      },
      "source": [
        "Hypothesis: no header row"
      ]
    },
    {
      "cell_type": "code",
      "metadata": {
        "id": "2QEfXM-m97kT",
        "colab_type": "code",
        "colab": {
          "base_uri": "https://localhost:8080/",
          "height": 197
        },
        "outputId": "eb2f8b9f-0fd2-451b-cd7c-b1e88bed111b"
      },
      "source": [
        "df.head()"
      ],
      "execution_count": 7,
      "outputs": [
        {
          "output_type": "execute_result",
          "data": {
            "text/html": [
              "<div>\n",
              "<style scoped>\n",
              "    .dataframe tbody tr th:only-of-type {\n",
              "        vertical-align: middle;\n",
              "    }\n",
              "\n",
              "    .dataframe tbody tr th {\n",
              "        vertical-align: top;\n",
              "    }\n",
              "\n",
              "    .dataframe thead th {\n",
              "        text-align: right;\n",
              "    }\n",
              "</style>\n",
              "<table border=\"1\" class=\"dataframe\">\n",
              "  <thead>\n",
              "    <tr style=\"text-align: right;\">\n",
              "      <th></th>\n",
              "      <th>30</th>\n",
              "      <th>64</th>\n",
              "      <th>1</th>\n",
              "      <th>1.1</th>\n",
              "    </tr>\n",
              "  </thead>\n",
              "  <tbody>\n",
              "    <tr>\n",
              "      <th>0</th>\n",
              "      <td>30</td>\n",
              "      <td>62</td>\n",
              "      <td>3</td>\n",
              "      <td>1</td>\n",
              "    </tr>\n",
              "    <tr>\n",
              "      <th>1</th>\n",
              "      <td>30</td>\n",
              "      <td>65</td>\n",
              "      <td>0</td>\n",
              "      <td>1</td>\n",
              "    </tr>\n",
              "    <tr>\n",
              "      <th>2</th>\n",
              "      <td>31</td>\n",
              "      <td>59</td>\n",
              "      <td>2</td>\n",
              "      <td>1</td>\n",
              "    </tr>\n",
              "    <tr>\n",
              "      <th>3</th>\n",
              "      <td>31</td>\n",
              "      <td>65</td>\n",
              "      <td>4</td>\n",
              "      <td>1</td>\n",
              "    </tr>\n",
              "    <tr>\n",
              "      <th>4</th>\n",
              "      <td>33</td>\n",
              "      <td>58</td>\n",
              "      <td>10</td>\n",
              "      <td>1</td>\n",
              "    </tr>\n",
              "  </tbody>\n",
              "</table>\n",
              "</div>"
            ],
            "text/plain": [
              "   30  64   1  1.1\n",
              "0  30  62   3    1\n",
              "1  30  65   0    1\n",
              "2  31  59   2    1\n",
              "3  31  65   4    1\n",
              "4  33  58  10    1"
            ]
          },
          "metadata": {
            "tags": []
          },
          "execution_count": 7
        }
      ]
    },
    {
      "cell_type": "markdown",
      "metadata": {
        "id": "DVqA37U1-ASY",
        "colab_type": "text"
      },
      "source": [
        "Hypothesis confirmed"
      ]
    },
    {
      "cell_type": "code",
      "metadata": {
        "id": "MIyPcuRW-CzD",
        "colab_type": "code",
        "colab": {
          "base_uri": "https://localhost:8080/",
          "height": 197
        },
        "outputId": "fa86546f-e307-4327-9898-53feade43030"
      },
      "source": [
        "headers = ['age', 'years_after_1900_of_op', 'pos_axillary_nodes', 'survived_5_yrs']\n",
        "\n",
        "df = pd.read_csv('http://archive.ics.uci.edu/ml/machine-learning-databases/haberman/haberman.data', names=headers)\n",
        "df.head()"
      ],
      "execution_count": 136,
      "outputs": [
        {
          "output_type": "execute_result",
          "data": {
            "text/html": [
              "<div>\n",
              "<style scoped>\n",
              "    .dataframe tbody tr th:only-of-type {\n",
              "        vertical-align: middle;\n",
              "    }\n",
              "\n",
              "    .dataframe tbody tr th {\n",
              "        vertical-align: top;\n",
              "    }\n",
              "\n",
              "    .dataframe thead th {\n",
              "        text-align: right;\n",
              "    }\n",
              "</style>\n",
              "<table border=\"1\" class=\"dataframe\">\n",
              "  <thead>\n",
              "    <tr style=\"text-align: right;\">\n",
              "      <th></th>\n",
              "      <th>age</th>\n",
              "      <th>years_after_1900_of_op</th>\n",
              "      <th>pos_axillary_nodes</th>\n",
              "      <th>survived_5_yrs</th>\n",
              "    </tr>\n",
              "  </thead>\n",
              "  <tbody>\n",
              "    <tr>\n",
              "      <th>0</th>\n",
              "      <td>30</td>\n",
              "      <td>64</td>\n",
              "      <td>1</td>\n",
              "      <td>1</td>\n",
              "    </tr>\n",
              "    <tr>\n",
              "      <th>1</th>\n",
              "      <td>30</td>\n",
              "      <td>62</td>\n",
              "      <td>3</td>\n",
              "      <td>1</td>\n",
              "    </tr>\n",
              "    <tr>\n",
              "      <th>2</th>\n",
              "      <td>30</td>\n",
              "      <td>65</td>\n",
              "      <td>0</td>\n",
              "      <td>1</td>\n",
              "    </tr>\n",
              "    <tr>\n",
              "      <th>3</th>\n",
              "      <td>31</td>\n",
              "      <td>59</td>\n",
              "      <td>2</td>\n",
              "      <td>1</td>\n",
              "    </tr>\n",
              "    <tr>\n",
              "      <th>4</th>\n",
              "      <td>31</td>\n",
              "      <td>65</td>\n",
              "      <td>4</td>\n",
              "      <td>1</td>\n",
              "    </tr>\n",
              "  </tbody>\n",
              "</table>\n",
              "</div>"
            ],
            "text/plain": [
              "   age  years_after_1900_of_op  pos_axillary_nodes  survived_5_yrs\n",
              "0   30                      64                   1               1\n",
              "1   30                      62                   3               1\n",
              "2   30                      65                   0               1\n",
              "3   31                      59                   2               1\n",
              "4   31                      65                   4               1"
            ]
          },
          "metadata": {
            "tags": []
          },
          "execution_count": 136
        }
      ]
    },
    {
      "cell_type": "markdown",
      "metadata": {
        "id": "YRlbcOhl-00d",
        "colab_type": "text"
      },
      "source": [
        "Appropriate number of observations confirmed."
      ]
    },
    {
      "cell_type": "markdown",
      "metadata": {
        "id": "6GzHu1eV7yRN",
        "colab_type": "text"
      },
      "source": [
        "###Validate that you have no missing values."
      ]
    },
    {
      "cell_type": "code",
      "metadata": {
        "id": "hKIEL5Kj_A_G",
        "colab_type": "code",
        "colab": {
          "base_uri": "https://localhost:8080/",
          "height": 105
        },
        "outputId": "22b738d7-8aeb-48f3-8675-da7c37ec9447"
      },
      "source": [
        "df.isna().sum()"
      ],
      "execution_count": 137,
      "outputs": [
        {
          "output_type": "execute_result",
          "data": {
            "text/plain": [
              "age                       0\n",
              "years_after_1900_of_op    0\n",
              "pos_axillary_nodes        0\n",
              "survived_5_yrs            0\n",
              "dtype: int64"
            ]
          },
          "metadata": {
            "tags": []
          },
          "execution_count": 137
        }
      ]
    },
    {
      "cell_type": "markdown",
      "metadata": {
        "id": "8TiKCzWt_KI1",
        "colab_type": "text"
      },
      "source": [
        "Even though UCI agrees that there are no missing values, I will increase confidence by checking data types."
      ]
    },
    {
      "cell_type": "code",
      "metadata": {
        "id": "ljWNUmiF_W2B",
        "colab_type": "code",
        "colab": {
          "base_uri": "https://localhost:8080/",
          "height": 105
        },
        "outputId": "3de156f3-ccb7-4c67-d787-fb17bdc99e02"
      },
      "source": [
        "df.dtypes"
      ],
      "execution_count": 138,
      "outputs": [
        {
          "output_type": "execute_result",
          "data": {
            "text/plain": [
              "age                       int64\n",
              "years_after_1900_of_op    int64\n",
              "pos_axillary_nodes        int64\n",
              "survived_5_yrs            int64\n",
              "dtype: object"
            ]
          },
          "metadata": {
            "tags": []
          },
          "execution_count": 138
        }
      ]
    },
    {
      "cell_type": "markdown",
      "metadata": {
        "id": "2isCWBVi_eq2",
        "colab_type": "text"
      },
      "source": [
        "Stretch: check for reasonable ranges"
      ]
    },
    {
      "cell_type": "markdown",
      "metadata": {
        "id": "NTB8Z0pv7ya9",
        "colab_type": "text"
      },
      "source": [
        "###Add informative names to the features."
      ]
    },
    {
      "cell_type": "markdown",
      "metadata": {
        "id": "Z1x1SYVU_vs2",
        "colab_type": "text"
      },
      "source": [
        "Completed as part of \"Load the data as a pandas data frame\""
      ]
    },
    {
      "cell_type": "markdown",
      "metadata": {
        "id": "waChxI_m8Eel",
        "colab_type": "text"
      },
      "source": [
        "###At the end, print the first five rows of the dataset to demonstrate the above."
      ]
    },
    {
      "cell_type": "code",
      "metadata": {
        "id": "p7rUam5H_1s3",
        "colab_type": "code",
        "colab": {
          "base_uri": "https://localhost:8080/",
          "height": 197
        },
        "outputId": "a13c2c26-8ea7-48be-9b89-a2dc3bd39520"
      },
      "source": [
        "df.head(5)"
      ],
      "execution_count": 139,
      "outputs": [
        {
          "output_type": "execute_result",
          "data": {
            "text/html": [
              "<div>\n",
              "<style scoped>\n",
              "    .dataframe tbody tr th:only-of-type {\n",
              "        vertical-align: middle;\n",
              "    }\n",
              "\n",
              "    .dataframe tbody tr th {\n",
              "        vertical-align: top;\n",
              "    }\n",
              "\n",
              "    .dataframe thead th {\n",
              "        text-align: right;\n",
              "    }\n",
              "</style>\n",
              "<table border=\"1\" class=\"dataframe\">\n",
              "  <thead>\n",
              "    <tr style=\"text-align: right;\">\n",
              "      <th></th>\n",
              "      <th>age</th>\n",
              "      <th>years_after_1900_of_op</th>\n",
              "      <th>pos_axillary_nodes</th>\n",
              "      <th>survived_5_yrs</th>\n",
              "    </tr>\n",
              "  </thead>\n",
              "  <tbody>\n",
              "    <tr>\n",
              "      <th>0</th>\n",
              "      <td>30</td>\n",
              "      <td>64</td>\n",
              "      <td>1</td>\n",
              "      <td>1</td>\n",
              "    </tr>\n",
              "    <tr>\n",
              "      <th>1</th>\n",
              "      <td>30</td>\n",
              "      <td>62</td>\n",
              "      <td>3</td>\n",
              "      <td>1</td>\n",
              "    </tr>\n",
              "    <tr>\n",
              "      <th>2</th>\n",
              "      <td>30</td>\n",
              "      <td>65</td>\n",
              "      <td>0</td>\n",
              "      <td>1</td>\n",
              "    </tr>\n",
              "    <tr>\n",
              "      <th>3</th>\n",
              "      <td>31</td>\n",
              "      <td>59</td>\n",
              "      <td>2</td>\n",
              "      <td>1</td>\n",
              "    </tr>\n",
              "    <tr>\n",
              "      <th>4</th>\n",
              "      <td>31</td>\n",
              "      <td>65</td>\n",
              "      <td>4</td>\n",
              "      <td>1</td>\n",
              "    </tr>\n",
              "  </tbody>\n",
              "</table>\n",
              "</div>"
            ],
            "text/plain": [
              "   age  years_after_1900_of_op  pos_axillary_nodes  survived_5_yrs\n",
              "0   30                      64                   1               1\n",
              "1   30                      62                   3               1\n",
              "2   30                      65                   0               1\n",
              "3   31                      59                   2               1\n",
              "4   31                      65                   4               1"
            ]
          },
          "metadata": {
            "tags": []
          },
          "execution_count": 139
        }
      ]
    },
    {
      "cell_type": "markdown",
      "metadata": {
        "id": "HNOTePvJ7yiX",
        "colab_type": "text"
      },
      "source": [
        "###The survival variable is encoded as 1 for surviving >5 years and 2 for not - change this to be 0 for not surviving and 1 for surviving >5 years (0/1 is a more traditional encoding of binary variables)"
      ]
    },
    {
      "cell_type": "code",
      "metadata": {
        "id": "287TpoGKFRVK",
        "colab_type": "code",
        "colab": {}
      },
      "source": [
        "#DO NOT RUN THIS BLOCK TWICE\n",
        "def fix_survived(x):\n",
        "  if x == 2:\n",
        "    return 0\n",
        "  else:\n",
        "    return 1\n",
        "  \n",
        "df['survived_5_yrs'] = df['survived_5_yrs'].apply(fix_survived)"
      ],
      "execution_count": 0,
      "outputs": []
    },
    {
      "cell_type": "code",
      "metadata": {
        "id": "12DZesICDLG7",
        "colab_type": "code",
        "colab": {
          "base_uri": "https://localhost:8080/",
          "height": 347
        },
        "outputId": "f5453c07-d558-432b-c864-50507a6080b0"
      },
      "source": [
        "df.head(10)"
      ],
      "execution_count": 155,
      "outputs": [
        {
          "output_type": "execute_result",
          "data": {
            "text/html": [
              "<div>\n",
              "<style scoped>\n",
              "    .dataframe tbody tr th:only-of-type {\n",
              "        vertical-align: middle;\n",
              "    }\n",
              "\n",
              "    .dataframe tbody tr th {\n",
              "        vertical-align: top;\n",
              "    }\n",
              "\n",
              "    .dataframe thead th {\n",
              "        text-align: right;\n",
              "    }\n",
              "</style>\n",
              "<table border=\"1\" class=\"dataframe\">\n",
              "  <thead>\n",
              "    <tr style=\"text-align: right;\">\n",
              "      <th></th>\n",
              "      <th>age</th>\n",
              "      <th>years_after_1900_of_op</th>\n",
              "      <th>pos_axillary_nodes</th>\n",
              "      <th>survived_5_yrs</th>\n",
              "    </tr>\n",
              "  </thead>\n",
              "  <tbody>\n",
              "    <tr>\n",
              "      <th>0</th>\n",
              "      <td>30</td>\n",
              "      <td>64</td>\n",
              "      <td>1</td>\n",
              "      <td>1</td>\n",
              "    </tr>\n",
              "    <tr>\n",
              "      <th>1</th>\n",
              "      <td>30</td>\n",
              "      <td>62</td>\n",
              "      <td>3</td>\n",
              "      <td>1</td>\n",
              "    </tr>\n",
              "    <tr>\n",
              "      <th>2</th>\n",
              "      <td>30</td>\n",
              "      <td>65</td>\n",
              "      <td>0</td>\n",
              "      <td>1</td>\n",
              "    </tr>\n",
              "    <tr>\n",
              "      <th>3</th>\n",
              "      <td>31</td>\n",
              "      <td>59</td>\n",
              "      <td>2</td>\n",
              "      <td>1</td>\n",
              "    </tr>\n",
              "    <tr>\n",
              "      <th>4</th>\n",
              "      <td>31</td>\n",
              "      <td>65</td>\n",
              "      <td>4</td>\n",
              "      <td>1</td>\n",
              "    </tr>\n",
              "    <tr>\n",
              "      <th>5</th>\n",
              "      <td>33</td>\n",
              "      <td>58</td>\n",
              "      <td>10</td>\n",
              "      <td>1</td>\n",
              "    </tr>\n",
              "    <tr>\n",
              "      <th>6</th>\n",
              "      <td>33</td>\n",
              "      <td>60</td>\n",
              "      <td>0</td>\n",
              "      <td>1</td>\n",
              "    </tr>\n",
              "    <tr>\n",
              "      <th>7</th>\n",
              "      <td>34</td>\n",
              "      <td>59</td>\n",
              "      <td>0</td>\n",
              "      <td>0</td>\n",
              "    </tr>\n",
              "    <tr>\n",
              "      <th>8</th>\n",
              "      <td>34</td>\n",
              "      <td>66</td>\n",
              "      <td>9</td>\n",
              "      <td>0</td>\n",
              "    </tr>\n",
              "    <tr>\n",
              "      <th>9</th>\n",
              "      <td>34</td>\n",
              "      <td>58</td>\n",
              "      <td>30</td>\n",
              "      <td>1</td>\n",
              "    </tr>\n",
              "  </tbody>\n",
              "</table>\n",
              "</div>"
            ],
            "text/plain": [
              "   age  years_after_1900_of_op  pos_axillary_nodes  survived_5_yrs\n",
              "0   30                      64                   1               1\n",
              "1   30                      62                   3               1\n",
              "2   30                      65                   0               1\n",
              "3   31                      59                   2               1\n",
              "4   31                      65                   4               1\n",
              "5   33                      58                  10               1\n",
              "6   33                      60                   0               1\n",
              "7   34                      59                   0               0\n",
              "8   34                      66                   9               0\n",
              "9   34                      58                  30               1"
            ]
          },
          "metadata": {
            "tags": []
          },
          "execution_count": 155
        }
      ]
    },
    {
      "cell_type": "markdown",
      "metadata": {
        "id": "G7rLytbrO38L",
        "colab_type": "text"
      },
      "source": [
        "## Part 2 - Examine the distribution and relationships of the features\n",
        "\n",
        "Explore the data - create at least *2* tables (can be summary statistics or crosstabulations) and *2* plots illustrating the nature of the data.\n",
        "\n",
        "This is open-ended, so to remind - first *complete* this task as a baseline, then go on to the remaining sections, and *then* as time allows revisit and explore further.\n",
        "\n",
        "Hint - you may need to bin some variables depending on your chosen tables/plots."
      ]
    },
    {
      "cell_type": "markdown",
      "metadata": {
        "id": "K_KM5vAlDdeV",
        "colab_type": "text"
      },
      "source": [
        "**###Table 1**"
      ]
    },
    {
      "cell_type": "code",
      "metadata": {
        "id": "mkJ6nkmSDr0n",
        "colab_type": "code",
        "colab": {
          "base_uri": "https://localhost:8080/",
          "height": 287
        },
        "outputId": "b8ba03eb-4dfd-486e-c657-c1563244c61e"
      },
      "source": [
        "df.describe()"
      ],
      "execution_count": 140,
      "outputs": [
        {
          "output_type": "execute_result",
          "data": {
            "text/html": [
              "<div>\n",
              "<style scoped>\n",
              "    .dataframe tbody tr th:only-of-type {\n",
              "        vertical-align: middle;\n",
              "    }\n",
              "\n",
              "    .dataframe tbody tr th {\n",
              "        vertical-align: top;\n",
              "    }\n",
              "\n",
              "    .dataframe thead th {\n",
              "        text-align: right;\n",
              "    }\n",
              "</style>\n",
              "<table border=\"1\" class=\"dataframe\">\n",
              "  <thead>\n",
              "    <tr style=\"text-align: right;\">\n",
              "      <th></th>\n",
              "      <th>age</th>\n",
              "      <th>years_after_1900_of_op</th>\n",
              "      <th>pos_axillary_nodes</th>\n",
              "      <th>survived_5_yrs</th>\n",
              "    </tr>\n",
              "  </thead>\n",
              "  <tbody>\n",
              "    <tr>\n",
              "      <th>count</th>\n",
              "      <td>306.000000</td>\n",
              "      <td>306.000000</td>\n",
              "      <td>306.000000</td>\n",
              "      <td>306.000000</td>\n",
              "    </tr>\n",
              "    <tr>\n",
              "      <th>mean</th>\n",
              "      <td>52.457516</td>\n",
              "      <td>62.852941</td>\n",
              "      <td>4.026144</td>\n",
              "      <td>1.264706</td>\n",
              "    </tr>\n",
              "    <tr>\n",
              "      <th>std</th>\n",
              "      <td>10.803452</td>\n",
              "      <td>3.249405</td>\n",
              "      <td>7.189654</td>\n",
              "      <td>0.441899</td>\n",
              "    </tr>\n",
              "    <tr>\n",
              "      <th>min</th>\n",
              "      <td>30.000000</td>\n",
              "      <td>58.000000</td>\n",
              "      <td>0.000000</td>\n",
              "      <td>1.000000</td>\n",
              "    </tr>\n",
              "    <tr>\n",
              "      <th>25%</th>\n",
              "      <td>44.000000</td>\n",
              "      <td>60.000000</td>\n",
              "      <td>0.000000</td>\n",
              "      <td>1.000000</td>\n",
              "    </tr>\n",
              "    <tr>\n",
              "      <th>50%</th>\n",
              "      <td>52.000000</td>\n",
              "      <td>63.000000</td>\n",
              "      <td>1.000000</td>\n",
              "      <td>1.000000</td>\n",
              "    </tr>\n",
              "    <tr>\n",
              "      <th>75%</th>\n",
              "      <td>60.750000</td>\n",
              "      <td>65.750000</td>\n",
              "      <td>4.000000</td>\n",
              "      <td>2.000000</td>\n",
              "    </tr>\n",
              "    <tr>\n",
              "      <th>max</th>\n",
              "      <td>83.000000</td>\n",
              "      <td>69.000000</td>\n",
              "      <td>52.000000</td>\n",
              "      <td>2.000000</td>\n",
              "    </tr>\n",
              "  </tbody>\n",
              "</table>\n",
              "</div>"
            ],
            "text/plain": [
              "              age  years_after_1900_of_op  pos_axillary_nodes  survived_5_yrs\n",
              "count  306.000000              306.000000          306.000000      306.000000\n",
              "mean    52.457516               62.852941            4.026144        1.264706\n",
              "std     10.803452                3.249405            7.189654        0.441899\n",
              "min     30.000000               58.000000            0.000000        1.000000\n",
              "25%     44.000000               60.000000            0.000000        1.000000\n",
              "50%     52.000000               63.000000            1.000000        1.000000\n",
              "75%     60.750000               65.750000            4.000000        2.000000\n",
              "max     83.000000               69.000000           52.000000        2.000000"
            ]
          },
          "metadata": {
            "tags": []
          },
          "execution_count": 140
        }
      ]
    },
    {
      "cell_type": "markdown",
      "metadata": {
        "id": "1QvIfcmFDd7S",
        "colab_type": "text"
      },
      "source": [
        "###Table 2"
      ]
    },
    {
      "cell_type": "code",
      "metadata": {
        "id": "jG92dTFMDv6O",
        "colab_type": "code",
        "colab": {
          "base_uri": "https://localhost:8080/",
          "height": 287
        },
        "outputId": "e3cc76c5-8295-4bb9-9fa4-6bfecbaeee22"
      },
      "source": [
        "#Spurious correlation. Stretch: Percent in bin survived?\n",
        "number_of_bins = 7\n",
        "\n",
        "age_bins = pd.cut(df['age'], number_of_bins)\n",
        "age_ct = pd.crosstab(age_bins, df.survived_5_yrs, normalize=False)\n",
        "age_ct\n"
      ],
      "execution_count": 166,
      "outputs": [
        {
          "output_type": "execute_result",
          "data": {
            "text/html": [
              "<div>\n",
              "<style scoped>\n",
              "    .dataframe tbody tr th:only-of-type {\n",
              "        vertical-align: middle;\n",
              "    }\n",
              "\n",
              "    .dataframe tbody tr th {\n",
              "        vertical-align: top;\n",
              "    }\n",
              "\n",
              "    .dataframe thead th {\n",
              "        text-align: right;\n",
              "    }\n",
              "</style>\n",
              "<table border=\"1\" class=\"dataframe\">\n",
              "  <thead>\n",
              "    <tr style=\"text-align: right;\">\n",
              "      <th>survived_5_yrs</th>\n",
              "      <th>0</th>\n",
              "      <th>1</th>\n",
              "    </tr>\n",
              "    <tr>\n",
              "      <th>age</th>\n",
              "      <th></th>\n",
              "      <th></th>\n",
              "    </tr>\n",
              "  </thead>\n",
              "  <tbody>\n",
              "    <tr>\n",
              "      <th>(29.947, 37.571]</th>\n",
              "      <td>2</td>\n",
              "      <td>22</td>\n",
              "    </tr>\n",
              "    <tr>\n",
              "      <th>(37.571, 45.143]</th>\n",
              "      <td>17</td>\n",
              "      <td>48</td>\n",
              "    </tr>\n",
              "    <tr>\n",
              "      <th>(45.143, 52.714]</th>\n",
              "      <td>20</td>\n",
              "      <td>47</td>\n",
              "    </tr>\n",
              "    <tr>\n",
              "      <th>(52.714, 60.286]</th>\n",
              "      <td>20</td>\n",
              "      <td>53</td>\n",
              "    </tr>\n",
              "    <tr>\n",
              "      <th>(60.286, 67.857]</th>\n",
              "      <td>15</td>\n",
              "      <td>35</td>\n",
              "    </tr>\n",
              "    <tr>\n",
              "      <th>(67.857, 75.429]</th>\n",
              "      <td>5</td>\n",
              "      <td>18</td>\n",
              "    </tr>\n",
              "    <tr>\n",
              "      <th>(75.429, 83.0]</th>\n",
              "      <td>2</td>\n",
              "      <td>2</td>\n",
              "    </tr>\n",
              "  </tbody>\n",
              "</table>\n",
              "</div>"
            ],
            "text/plain": [
              "survived_5_yrs     0   1\n",
              "age                     \n",
              "(29.947, 37.571]   2  22\n",
              "(37.571, 45.143]  17  48\n",
              "(45.143, 52.714]  20  47\n",
              "(52.714, 60.286]  20  53\n",
              "(60.286, 67.857]  15  35\n",
              "(67.857, 75.429]   5  18\n",
              "(75.429, 83.0]     2   2"
            ]
          },
          "metadata": {
            "tags": []
          },
          "execution_count": 166
        }
      ]
    },
    {
      "cell_type": "markdown",
      "metadata": {
        "id": "yW-kgcmhYM_-",
        "colab_type": "text"
      },
      "source": [
        "###Table 3"
      ]
    },
    {
      "cell_type": "code",
      "metadata": {
        "id": "mByp6DQQId5O",
        "colab_type": "code",
        "colab": {}
      },
      "source": [
        "age_ct['percent_survived'] = 1.0"
      ],
      "execution_count": 0,
      "outputs": []
    },
    {
      "cell_type": "code",
      "metadata": {
        "id": "2gBU-M23H53T",
        "colab_type": "code",
        "colab": {
          "base_uri": "https://localhost:8080/",
          "height": 376
        },
        "outputId": "7fb63bea-2742-4ba2-9b57-4929162608ee"
      },
      "source": [
        "for r in range(number_of_bins):\n",
        "  age_ct['percent_survived'][r] = (age_ct[1][r] / (age_ct[0][r] + age_ct[1][r]))\n",
        "age_ct\n"
      ],
      "execution_count": 168,
      "outputs": [
        {
          "output_type": "stream",
          "text": [
            "/usr/local/lib/python3.6/dist-packages/ipykernel_launcher.py:2: SettingWithCopyWarning: \n",
            "A value is trying to be set on a copy of a slice from a DataFrame\n",
            "\n",
            "See the caveats in the documentation: http://pandas.pydata.org/pandas-docs/stable/indexing.html#indexing-view-versus-copy\n",
            "  \n"
          ],
          "name": "stderr"
        },
        {
          "output_type": "execute_result",
          "data": {
            "text/html": [
              "<div>\n",
              "<style scoped>\n",
              "    .dataframe tbody tr th:only-of-type {\n",
              "        vertical-align: middle;\n",
              "    }\n",
              "\n",
              "    .dataframe tbody tr th {\n",
              "        vertical-align: top;\n",
              "    }\n",
              "\n",
              "    .dataframe thead th {\n",
              "        text-align: right;\n",
              "    }\n",
              "</style>\n",
              "<table border=\"1\" class=\"dataframe\">\n",
              "  <thead>\n",
              "    <tr style=\"text-align: right;\">\n",
              "      <th>survived_5_yrs</th>\n",
              "      <th>0</th>\n",
              "      <th>1</th>\n",
              "      <th>percent_survived</th>\n",
              "    </tr>\n",
              "    <tr>\n",
              "      <th>age</th>\n",
              "      <th></th>\n",
              "      <th></th>\n",
              "      <th></th>\n",
              "    </tr>\n",
              "  </thead>\n",
              "  <tbody>\n",
              "    <tr>\n",
              "      <th>(29.947, 37.571]</th>\n",
              "      <td>2</td>\n",
              "      <td>22</td>\n",
              "      <td>0.916667</td>\n",
              "    </tr>\n",
              "    <tr>\n",
              "      <th>(37.571, 45.143]</th>\n",
              "      <td>17</td>\n",
              "      <td>48</td>\n",
              "      <td>0.738462</td>\n",
              "    </tr>\n",
              "    <tr>\n",
              "      <th>(45.143, 52.714]</th>\n",
              "      <td>20</td>\n",
              "      <td>47</td>\n",
              "      <td>0.701493</td>\n",
              "    </tr>\n",
              "    <tr>\n",
              "      <th>(52.714, 60.286]</th>\n",
              "      <td>20</td>\n",
              "      <td>53</td>\n",
              "      <td>0.726027</td>\n",
              "    </tr>\n",
              "    <tr>\n",
              "      <th>(60.286, 67.857]</th>\n",
              "      <td>15</td>\n",
              "      <td>35</td>\n",
              "      <td>0.700000</td>\n",
              "    </tr>\n",
              "    <tr>\n",
              "      <th>(67.857, 75.429]</th>\n",
              "      <td>5</td>\n",
              "      <td>18</td>\n",
              "      <td>0.782609</td>\n",
              "    </tr>\n",
              "    <tr>\n",
              "      <th>(75.429, 83.0]</th>\n",
              "      <td>2</td>\n",
              "      <td>2</td>\n",
              "      <td>0.500000</td>\n",
              "    </tr>\n",
              "  </tbody>\n",
              "</table>\n",
              "</div>"
            ],
            "text/plain": [
              "survived_5_yrs     0   1  percent_survived\n",
              "age                                       \n",
              "(29.947, 37.571]   2  22          0.916667\n",
              "(37.571, 45.143]  17  48          0.738462\n",
              "(45.143, 52.714]  20  47          0.701493\n",
              "(52.714, 60.286]  20  53          0.726027\n",
              "(60.286, 67.857]  15  35          0.700000\n",
              "(67.857, 75.429]   5  18          0.782609\n",
              "(75.429, 83.0]     2   2          0.500000"
            ]
          },
          "metadata": {
            "tags": []
          },
          "execution_count": 168
        }
      ]
    },
    {
      "cell_type": "code",
      "metadata": {
        "id": "pbxRbTxNYPd6",
        "colab_type": "code",
        "colab": {}
      },
      "source": [
        "number_of_time_bins = 11\n",
        "\n",
        "time_bins = pd.cut(df['years_after_1900_of_op'], number_of_time_bins)\n",
        "time_ct = pd.crosstab(time_bins, df.survived_5_yrs)"
      ],
      "execution_count": 0,
      "outputs": []
    },
    {
      "cell_type": "code",
      "metadata": {
        "id": "9-7VtKQaYydM",
        "colab_type": "code",
        "colab": {
          "base_uri": "https://localhost:8080/",
          "height": 496
        },
        "outputId": "aceba440-8b86-444a-c03f-830bd24eaa18"
      },
      "source": [
        "time_ct['percent_survived'] = 1.0\n",
        "\n",
        "for r in range(number_of_time_bins):\n",
        "  time_ct['percent_survived'][r] = (time_ct[1][r] / (time_ct[0][r] + time_ct[1][r]))\n",
        "time_ct"
      ],
      "execution_count": 162,
      "outputs": [
        {
          "output_type": "stream",
          "text": [
            "/usr/local/lib/python3.6/dist-packages/ipykernel_launcher.py:4: SettingWithCopyWarning: \n",
            "A value is trying to be set on a copy of a slice from a DataFrame\n",
            "\n",
            "See the caveats in the documentation: http://pandas.pydata.org/pandas-docs/stable/indexing.html#indexing-view-versus-copy\n",
            "  after removing the cwd from sys.path.\n"
          ],
          "name": "stderr"
        },
        {
          "output_type": "execute_result",
          "data": {
            "text/html": [
              "<div>\n",
              "<style scoped>\n",
              "    .dataframe tbody tr th:only-of-type {\n",
              "        vertical-align: middle;\n",
              "    }\n",
              "\n",
              "    .dataframe tbody tr th {\n",
              "        vertical-align: top;\n",
              "    }\n",
              "\n",
              "    .dataframe thead th {\n",
              "        text-align: right;\n",
              "    }\n",
              "</style>\n",
              "<table border=\"1\" class=\"dataframe\">\n",
              "  <thead>\n",
              "    <tr style=\"text-align: right;\">\n",
              "      <th>survived_5_yrs</th>\n",
              "      <th>0</th>\n",
              "      <th>1</th>\n",
              "      <th>percent_survived</th>\n",
              "    </tr>\n",
              "    <tr>\n",
              "      <th>years_after_1900_of_op</th>\n",
              "      <th></th>\n",
              "      <th></th>\n",
              "      <th></th>\n",
              "    </tr>\n",
              "  </thead>\n",
              "  <tbody>\n",
              "    <tr>\n",
              "      <th>(57.989, 59.0]</th>\n",
              "      <td>21</td>\n",
              "      <td>42</td>\n",
              "      <td>0.666667</td>\n",
              "    </tr>\n",
              "    <tr>\n",
              "      <th>(59.0, 60.0]</th>\n",
              "      <td>4</td>\n",
              "      <td>24</td>\n",
              "      <td>0.857143</td>\n",
              "    </tr>\n",
              "    <tr>\n",
              "      <th>(60.0, 61.0]</th>\n",
              "      <td>3</td>\n",
              "      <td>23</td>\n",
              "      <td>0.884615</td>\n",
              "    </tr>\n",
              "    <tr>\n",
              "      <th>(61.0, 62.0]</th>\n",
              "      <td>7</td>\n",
              "      <td>16</td>\n",
              "      <td>0.695652</td>\n",
              "    </tr>\n",
              "    <tr>\n",
              "      <th>(62.0, 63.0]</th>\n",
              "      <td>8</td>\n",
              "      <td>22</td>\n",
              "      <td>0.733333</td>\n",
              "    </tr>\n",
              "    <tr>\n",
              "      <th>(63.0, 64.0]</th>\n",
              "      <td>8</td>\n",
              "      <td>23</td>\n",
              "      <td>0.741935</td>\n",
              "    </tr>\n",
              "    <tr>\n",
              "      <th>(64.0, 65.0]</th>\n",
              "      <td>13</td>\n",
              "      <td>15</td>\n",
              "      <td>0.535714</td>\n",
              "    </tr>\n",
              "    <tr>\n",
              "      <th>(65.0, 66.0]</th>\n",
              "      <td>6</td>\n",
              "      <td>22</td>\n",
              "      <td>0.785714</td>\n",
              "    </tr>\n",
              "    <tr>\n",
              "      <th>(66.0, 67.0]</th>\n",
              "      <td>4</td>\n",
              "      <td>21</td>\n",
              "      <td>0.840000</td>\n",
              "    </tr>\n",
              "    <tr>\n",
              "      <th>(67.0, 68.0]</th>\n",
              "      <td>3</td>\n",
              "      <td>10</td>\n",
              "      <td>0.769231</td>\n",
              "    </tr>\n",
              "    <tr>\n",
              "      <th>(68.0, 69.0]</th>\n",
              "      <td>4</td>\n",
              "      <td>7</td>\n",
              "      <td>0.636364</td>\n",
              "    </tr>\n",
              "  </tbody>\n",
              "</table>\n",
              "</div>"
            ],
            "text/plain": [
              "survived_5_yrs           0   1  percent_survived\n",
              "years_after_1900_of_op                          \n",
              "(57.989, 59.0]          21  42          0.666667\n",
              "(59.0, 60.0]             4  24          0.857143\n",
              "(60.0, 61.0]             3  23          0.884615\n",
              "(61.0, 62.0]             7  16          0.695652\n",
              "(62.0, 63.0]             8  22          0.733333\n",
              "(63.0, 64.0]             8  23          0.741935\n",
              "(64.0, 65.0]            13  15          0.535714\n",
              "(65.0, 66.0]             6  22          0.785714\n",
              "(66.0, 67.0]             4  21          0.840000\n",
              "(67.0, 68.0]             3  10          0.769231\n",
              "(68.0, 69.0]             4   7          0.636364"
            ]
          },
          "metadata": {
            "tags": []
          },
          "execution_count": 162
        }
      ]
    },
    {
      "cell_type": "markdown",
      "metadata": {
        "id": "HN97xG6yaZ5d",
        "colab_type": "text"
      },
      "source": [
        "###Table 4"
      ]
    },
    {
      "cell_type": "markdown",
      "metadata": {
        "id": "ivEnVprwDfGu",
        "colab_type": "text"
      },
      "source": [
        "###Plot 1"
      ]
    },
    {
      "cell_type": "code",
      "metadata": {
        "id": "ffgAZ2VaFS0t",
        "colab_type": "code",
        "colab": {
          "base_uri": "https://localhost:8080/",
          "height": 370
        },
        "outputId": "67fba239-f608-4af7-f4e2-29f3b81015ed"
      },
      "source": [
        "df.hist()"
      ],
      "execution_count": 144,
      "outputs": [
        {
          "output_type": "execute_result",
          "data": {
            "text/plain": [
              "array([[<matplotlib.axes._subplots.AxesSubplot object at 0x7f612a7fb6a0>,\n",
              "        <matplotlib.axes._subplots.AxesSubplot object at 0x7f612a7ded30>],\n",
              "       [<matplotlib.axes._subplots.AxesSubplot object at 0x7f612a78a2e8>,\n",
              "        <matplotlib.axes._subplots.AxesSubplot object at 0x7f612a7ac860>]],\n",
              "      dtype=object)"
            ]
          },
          "metadata": {
            "tags": []
          },
          "execution_count": 144
        },
        {
          "output_type": "display_data",
          "data": {
            "image/png": "[encoded data removed]",
            "text/plain": [
              "<Figure size 432x288 with 4 Axes>"
            ]
          },
          "metadata": {
            "tags": []
          }
        }
      ]
    },
    {
      "cell_type": "markdown",
      "metadata": {
        "id": "BSPB2jNhDfMU",
        "colab_type": "text"
      },
      "source": [
        "###Plot 2"
      ]
    },
    {
      "cell_type": "code",
      "metadata": {
        "id": "bF80EDALMnlN",
        "colab_type": "code",
        "colab": {
          "base_uri": "https://localhost:8080/",
          "height": 300
        },
        "outputId": "d7389e49-ed34-4b1c-bbb1-aff042b84cad"
      },
      "source": [
        "age_ct[('percent_survived')].plot(kind=\"line\")"
      ],
      "execution_count": 145,
      "outputs": [
        {
          "output_type": "execute_result",
          "data": {
            "text/plain": [
              "<matplotlib.axes._subplots.AxesSubplot at 0x7f612a6a1470>"
            ]
          },
          "metadata": {
            "tags": []
          },
          "execution_count": 145
        },
        {
          "output_type": "display_data",
          "data": {
            "image/png": "[encoded data removed]",
            "text/plain": [
              "<Figure size 432x288 with 1 Axes>"
            ]
          },
          "metadata": {
            "tags": []
          }
        }
      ]
    },
    {
      "cell_type": "markdown",
      "metadata": {
        "id": "Bxg0MEQCazrU",
        "colab_type": "text"
      },
      "source": [
        "###Plot 3"
      ]
    },
    {
      "cell_type": "code",
      "metadata": {
        "id": "ZeHQvPOdRBIU",
        "colab_type": "code",
        "colab": {
          "base_uri": "https://localhost:8080/",
          "height": 817
        },
        "outputId": "f003406f-b2ec-4fca-860f-d8a5c667870a"
      },
      "source": [
        "import seaborn as sns\n",
        "sns.pairplot(df, hue=\"years_after_1900_of_op\", markers=\"+\")"
      ],
      "execution_count": 146,
      "outputs": [
        {
          "output_type": "stream",
          "text": [
            "/usr/local/lib/python3.6/dist-packages/statsmodels/nonparametric/kde.py:487: RuntimeWarning: invalid value encountered in true_divide\n",
            "  binned = fast_linbin(X, a, b, gridsize) / (delta * nobs)\n",
            "/usr/local/lib/python3.6/dist-packages/statsmodels/nonparametric/kdetools.py:34: RuntimeWarning: invalid value encountered in double_scalars\n",
            "  FAC1 = 2*(np.pi*bw/RANGE)**2\n"
          ],
          "name": "stderr"
        },
        {
          "output_type": "execute_result",
          "data": {
            "text/plain": [
              "<seaborn.axisgrid.PairGrid at 0x7f612a6453c8>"
            ]
          },
          "metadata": {
            "tags": []
          },
          "execution_count": 146
        },
        {
          "output_type": "display_data",
          "data": {
            "image/png": "[encoded data removed]",
            "text/plain": [
              "<Figure size 846.5x720 with 20 Axes>"
            ]
          },
          "metadata": {
            "tags": []
          }
        }
      ]
    },
    {
      "cell_type": "markdown",
      "metadata": {
        "id": "HrhtyWHqa5zx",
        "colab_type": "text"
      },
      "source": [
        "###Plot 4"
      ]
    },
    {
      "cell_type": "code",
      "metadata": {
        "id": "1sJdHg45UuEv",
        "colab_type": "code",
        "colab": {
          "base_uri": "https://localhost:8080/",
          "height": 677
        },
        "outputId": "268ab942-d535-4f17-a7b6-09b5ae336a64"
      },
      "source": [
        "df.boxplot(column='pos_axillary_nodes', by='survived_5_yrs', figsize=(10,10))"
      ],
      "execution_count": 156,
      "outputs": [
        {
          "output_type": "execute_result",
          "data": {
            "text/plain": [
              "<matplotlib.axes._subplots.AxesSubplot at 0x7f6129e35550>"
            ]
          },
          "metadata": {
            "tags": []
          },
          "execution_count": 156
        },
        {
          "output_type": "display_data",
          "data": {
            "image/png": "[encoded data removed]",
            "text/plain": [
              "<Figure size 720x720 with 1 Axes>"
            ]
          },
          "metadata": {
            "tags": []
          }
        }
      ]
    },
    {
      "cell_type": "markdown",
      "metadata": {
        "id": "b-xosexxb8In",
        "colab_type": "text"
      },
      "source": [
        "###Plot 5"
      ]
    },
    {
      "cell_type": "code",
      "metadata": {
        "id": "siwt4o78b9-N",
        "colab_type": "code",
        "colab": {
          "base_uri": "https://localhost:8080/",
          "height": 322
        },
        "outputId": "1a3c392f-b92a-4ad0-c9f2-84662071445f"
      },
      "source": [
        "plt.hist(df['years_after_1900_of_op'])"
      ],
      "execution_count": 170,
      "outputs": [
        {
          "output_type": "execute_result",
          "data": {
            "text/plain": [
              "(array([63., 28., 26., 23., 30., 31., 28., 28., 25., 24.]),\n",
              " array([58. , 59.1, 60.2, 61.3, 62.4, 63.5, 64.6, 65.7, 66.8, 67.9, 69. ]),\n",
              " <a list of 10 Patch objects>)"
            ]
          },
          "metadata": {
            "tags": []
          },
          "execution_count": 170
        },
        {
          "output_type": "display_data",
          "data": {
            "image/png": "[encoded data removed]",
            "text/plain": [
              "<Figure size 432x288 with 1 Axes>"
            ]
          },
          "metadata": {
            "tags": []
          }
        }
      ]
    },
    {
      "cell_type": "markdown",
      "metadata": {
        "id": "n1baNj2ihAFE",
        "colab_type": "text"
      },
      "source": [
        "The abnormally high number of surgeries during the first recorded year make me wonder whether it was the first year this hospital offered the procedure and there was some sort of backlog."
      ]
    },
    {
      "cell_type": "markdown",
      "metadata": {
        "id": "yAG0AtsVdx2L",
        "colab_type": "text"
      },
      "source": [
        "###Plot 6"
      ]
    },
    {
      "cell_type": "code",
      "metadata": {
        "id": "e68sW0dIdjWJ",
        "colab_type": "code",
        "colab": {
          "base_uri": "https://localhost:8080/",
          "height": 286
        },
        "outputId": "7f01e3c9-31bd-481d-8312-5228b720690d"
      },
      "source": [
        "plt.scatter(df['age'], df['pos_axillary_nodes'])"
      ],
      "execution_count": 171,
      "outputs": [
        {
          "output_type": "execute_result",
          "data": {
            "text/plain": [
              "<matplotlib.collections.PathCollection at 0x7f6129beee80>"
            ]
          },
          "metadata": {
            "tags": []
          },
          "execution_count": 171
        },
        {
          "output_type": "display_data",
          "data": {
            "image/png": "[encoded data removed]",
            "text/plain": [
              "<Figure size 432x288 with 1 Axes>"
            ]
          },
          "metadata": {
            "tags": []
          }
        }
      ]
    },
    {
      "cell_type": "markdown",
      "metadata": {
        "id": "ZM8JckA2bgnp",
        "colab_type": "text"
      },
      "source": [
        "## Part 3 - Analysis and Interpretation\n",
        "\n",
        "Now that you've looked at the data, answer the following questions:\n",
        "\n",
        "- What is at least one feature that looks to have a positive relationship with survival?\n",
        "- What is at least one feature that looks to have a negative relationship with survival? \n",
        "- How are those two features related with each other, and what might that mean?\n",
        "\n",
        "Answer with text, but feel free to intersperse example code/results or refer to it from earlier."
      ]
    },
    {
      "cell_type": "markdown",
      "metadata": {
        "id": "wjD1NBdQXclY",
        "colab_type": "text"
      },
      "source": [
        "###What is at least one feature that looks to have a positive relationship with survival?\n",
        "There is no feature with a positive relationship to survival that is not spurious. At the extremes, it could be said that youth (inversion of age) is positivly related with survival (Table 3). "
      ]
    },
    {
      "cell_type": "markdown",
      "metadata": {
        "id": "lNvlskI1XfpU",
        "colab_type": "text"
      },
      "source": [
        "###What is at least one feature that looks to have a negative relationship with survival?\n",
        "Positive axillary nodes (Plot 4), and Age (Table 3) both have negative relationships with survival.\n",
        "On Plot #4 we can see that those who survived ('1') have far fewer axilary lymph nodes that tested positive for cancer. Infact, we see, more than 50% had none."
      ]
    },
    {
      "cell_type": "markdown",
      "metadata": {
        "id": "yi_bFRr8XhqI",
        "colab_type": "text"
      },
      "source": [
        "###How are those two features related with each other, and what might that mean?\n",
        "Youth and axillary nodes represent a spurious correlation. Youth correlates positivley with survival because at the extremes (relativley yough/old) it represents the body's ability to recover from surgery. Positive axillary nodes represent the how far the cancer has spread, meaning surgery is more invasive, and survival less likely."
      ]
    }
  ]
}