{
  "nbformat": 4,
  "nbformat_minor": 0,
  "metadata": {
    "colab": {
      "name": "Sprint #1 Cheat Sheet",
      "version": "0.3.2",
      "provenance": [],
      "include_colab_link": true
    },
    "kernelspec": {
      "name": "python3",
      "display_name": "Python 3"
    }
  },
  "cells": [
    {
      "cell_type": "markdown",
      "metadata": {
        "id": "view-in-github",
        "colab_type": "text"
      },
      "source": [
        "<a href=\"https://colab.research.google.com/github/AdinDeis/DS-Unit-1-Sprint-1-Dealing-With-Data/blob/master/Sprint_1_Cheat_Sheet.ipynb\" target=\"_parent\"><img src=\"https://colab.research.google.com/assets/colab-badge.svg\" alt=\"Open In Colab\"/></a>"
      ]
    },
    {
      "cell_type": "markdown",
      "metadata": {
        "id": "zOzUOPw8NsOh",
        "colab_type": "text"
      },
      "source": [
        "#Sprint #1 Cheat Sheet"
      ]
    },
    {
      "cell_type": "markdown",
      "metadata": {
        "id": "Uc9v87NbN0Zi",
        "colab_type": "text"
      },
      "source": [
        "For your sprint challenge, make sure to know the following...\n",
        "1. explain what quantifiable data is (and isn't)\n",
        "2. distinguish between common variable types (continuous/discrete, ordinal/categorical)\n",
        "3. load data from multiple sources into a Python notebook\n",
        "4. clean a dataset using common Python libraries\n",
        "5. infer and support statements based on data\n",
        "6. identify misleading statements not actually backed by the data\n",
        "7. understand the purpose of feature engineering\n",
        "8. work with strings in pandas\n",
        "9. work with dates and times in pandas"
      ]
    },
    {
      "cell_type": "markdown",
      "metadata": {
        "id": "h9vQcTBmOpD2",
        "colab_type": "text"
      },
      "source": [
        "##What Quantifiable Data is (and isn't)\n",
        "\n",
        "IS able to be expressed or measured as a quantity (temperature, income, age, I.Q.\n",
        "Counter examples might be Beauty, Moral Character, Pleasant Smell, Mood\n",
        "Not Categorical"
      ]
    },
    {
      "cell_type": "markdown",
      "metadata": {
        "id": "o5aXzs3mPmdL",
        "colab_type": "text"
      },
      "source": [
        "##Variable Types\n",
        "Continuous - Value can exist anywhere withing some range, infinitly precise (temp, age, distance)\n",
        "Discrete - Variable can only take on a finite number of values (not really though, be careful) (unit count)\n",
        "Ordinal - An ordinal variable is a categorical variable for which the possible values are ordered. Ordinal variables can be considered “in between” categorical and quantitative variables.\n",
        "Categorical -  Categorical. Categorical variables take on values that are names or labels. The color of a ball (e.g., red, green, blue) or the breed of a dog (e.g., collie, shepherd, terrier) would be examples of categorical variables. "
      ]
    },
    {
      "cell_type": "markdown",
      "metadata": {
        "id": "oMGBMEFXS7GW",
        "colab_type": "text"
      },
      "source": [
        "##Load Data"
      ]
    },
    {
      "cell_type": "code",
      "metadata": {
        "id": "a4uZwVT_TrlN",
        "colab_type": "code",
        "colab": {}
      },
      "source": [
        "#Import adjustment agruements\n",
        "column_headers = ['mpg', 'cylinders', 'displacement', 'horsepower', 'weight', \n",
        "                  'acceleration', 'model year', 'origin', 'car name']\n",
        "\n",
        "df = pd.read_csv('auto-mpg.data', delim_whitespace=True, names=column_headers, na_values='?')"
      ],
      "execution_count": 0,
      "outputs": []
    },
    {
      "cell_type": "markdown",
      "metadata": {
        "id": "Q3-EkReJS-We",
        "colab_type": "text"
      },
      "source": [
        "###Read CSV from link\n",
        "Most familiar method"
      ]
    },
    {
      "cell_type": "code",
      "metadata": {
        "id": "jKPlE85XTCrd",
        "colab_type": "code",
        "colab": {}
      },
      "source": [
        "#Read from link\n",
        "df = pd.read_csv('https://archive.ics.uci.edu/ml/machine-learning-databases/auto-mpg/auto-mpg.data', names=column_headers)\n",
        "print(df.shape)\n",
        "df.head()"
      ],
      "execution_count": 0,
      "outputs": []
    },
    {
      "cell_type": "markdown",
      "metadata": {
        "id": "ZayZIs-5TF7t",
        "colab_type": "text"
      },
      "source": [
        "###Import dataframe using !curl"
      ]
    },
    {
      "cell_type": "code",
      "metadata": {
        "id": "xRCOQWRCTIB0",
        "colab_type": "code",
        "colab": {}
      },
      "source": [
        "!curl -o auto-mpg.data https://archive.ics.uci.edu/ml/machine-learning-databases/auto-mpg/auto-mpg.data\n",
        "df = pd.read_csv('auto-mpg.data')\n",
        "print(df.shape)\n",
        "df.head()"
      ],
      "execution_count": 0,
      "outputs": []
    },
    {
      "cell_type": "markdown",
      "metadata": {
        "id": "bie21A0PTL1Y",
        "colab_type": "text"
      },
      "source": [
        "###Upload data from local machine to Colab\n",
        "Definitly my least favorite method. You need to go select the file everytime."
      ]
    },
    {
      "cell_type": "code",
      "metadata": {
        "id": "qlR-Av7cTOL0",
        "colab_type": "code",
        "colab": {}
      },
      "source": [
        "from google.colab import files\n",
        "\n",
        "uploads = files.upload()\n",
        "df = pd.read_csv('auto-mpg.data')\n",
        "\n",
        "print(df.shape)\n",
        "df.head()"
      ],
      "execution_count": 0,
      "outputs": []
    },
    {
      "cell_type": "markdown",
      "metadata": {
        "id": "pWmqO9ggTTTW",
        "colab_type": "text"
      },
      "source": [
        "##Clean Data\n"
      ]
    },
    {
      "cell_type": "code",
      "metadata": {
        "id": "fwkcuL_zTZ7E",
        "colab_type": "code",
        "colab": {}
      },
      "source": [
        "#returns (rows, columns)\n",
        "df.shape\n",
        "df.head()\n",
        "df.tail()\n",
        "df.describe()\n",
        "df.type()\n",
        "df.info()\n",
        "df.isna().sum()\n",
        "df.replace(' ','')\n",
        "df.count()\n",
        "df['column1'].value_counts().count()\n",
        "df['column1'].nunique()\n",
        "df.loc['column_or_index_name']\n",
        "df.iloc[1]\n",
        "df.at[1,'column1']\n",
        "df.apply(some_funcion(), axis='index')\n",
        "df.groupby()\n",
        "bins = pd.cut(df['column1'], 5) #create 5 bins\n",
        "pd.crosstab(bin_or_feature, bin_or_feature, normalize='columns')"
      ],
      "execution_count": 0,
      "outputs": []
    },
    {
      "cell_type": "markdown",
      "metadata": {
        "id": "_XNa9FwqVPRG",
        "colab_type": "text"
      },
      "source": [
        "##Vizualizing Data"
      ]
    },
    {
      "cell_type": "code",
      "metadata": {
        "id": "Ks91d35hVUgg",
        "colab_type": "code",
        "colab": {}
      },
      "source": [
        "df.plot.scatter('horsepower','mpg');\n",
        "df.hist(column='cylinders');\n",
        "\n",
        "import seaborn as sns\n",
        "sns.distplot(df['mpg']);\n",
        "sns.pairplot(df);\n",
        "\n"
      ],
      "execution_count": 0,
      "outputs": []
    }
  ]
}